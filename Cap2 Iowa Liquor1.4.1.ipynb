{
 "cells": [
  {
   "cell_type": "markdown",
   "metadata": {},
   "source": [
    "# Import Modules and Dataset"
   ]
  },
  {
   "cell_type": "code",
   "execution_count": 1,
   "metadata": {},
   "outputs": [],
   "source": [
    "import seaborn as sns\n",
    "import pandas as pd\n",
    "import numpy as np\n",
    "import matplotlib.pyplot as plt\n",
    "from datetime import datetime\n",
    "import random\n",
    "from sklearn.impute import SimpleImputer\n",
    "import gc\n",
    "\n",
    "import matplotlib.pyplot as plt\n",
    "%matplotlib inline\n",
    "import matplotlib.pylab as pylab\n",
    "params = {'legend.fontsize': 'x-large',\n",
    "          'figure.figsize': (15, 5),\n",
    "         'axes.labelsize': 'xx-large',\n",
    "         'axes.titlesize':'xx-large',\n",
    "          'axes.titleweight': 'bold',\n",
    "          'axes.labelweight': 'bold',\n",
    "         'xtick.labelsize':'xx-large',\n",
    "          'xtick.major.size': 5.5,\n",
    "         'ytick.labelsize':'xx-large',\n",
    "          'ytick.major.size': 5.5,\n",
    "          'axes.labelpad': 15.0,\n",
    "          'grid.color': 'gray',\n",
    "         'axes.edgecolor': 'black'}\n",
    "pylab.rcParams.update(params)\n",
    "plt.rcParams[\"patch.force_edgecolor\"] = True"
   ]
  },
  {
   "cell_type": "code",
   "execution_count": 2,
   "metadata": {},
   "outputs": [
    {
     "name": "stderr",
     "output_type": "stream",
     "text": [
      "/opt/anaconda3/lib/python3.8/site-packages/IPython/core/interactiveshell.py:3071: DtypeWarning: Columns (6) have mixed types.Specify dtype option on import or set low_memory=False.\n",
      "  has_raised = await self.run_ast_nodes(code_ast.body, cell_name,\n"
     ]
    }
   ],
   "source": [
    "file = '/Users/charisameeker/Documents/Data/Iowa Liquor/Iowa_Liquor_Sales.csv'\n",
    "df = pd.read_csv(file, parse_dates=['Date'],\n",
    "        dtype = {'Store Number':np.int16, 'Item Number':np.int32, 'Pack':np.int16,\n",
    "                'Volume Sold (Liters)':np.float32, 'Bottles Sold':np.int16,\n",
    "                'Volumes Sold':np.int16})"
   ]
  },
  {
   "cell_type": "markdown",
   "metadata": {},
   "source": [
    "## Memory Usage"
   ]
  },
  {
   "cell_type": "code",
   "execution_count": 3,
   "metadata": {},
   "outputs": [
    {
     "name": "stdout",
     "output_type": "stream",
     "text": [
      "Memory Usage (Deep=True) (GB): 12.6 \n",
      "Memory Usage (Deep=False) (GB): 2.09\n"
     ]
    }
   ],
   "source": [
    "print('Memory Usage (Deep=True) (GB):',\n",
    "      np.round(df.memory_usage(deep=True).sum() / 10 ** 9, decimals=2),\n",
    "    '\\nMemory Usage (Deep=False) (GB):',\n",
    "      np.round(df.memory_usage(deep=False).sum() / 10 ** 9, decimals=2))"
   ]
  },
  {
   "cell_type": "markdown",
   "metadata": {},
   "source": [
    "# Data Cleaning"
   ]
  },
  {
   "cell_type": "code",
   "execution_count": 4,
   "metadata": {},
   "outputs": [],
   "source": [
    "# Convert columns to lowercase\n",
    "df.columns = df.columns.str.lower()"
   ]
  },
  {
   "cell_type": "markdown",
   "metadata": {},
   "source": [
    "### There are as many invoice numbers as rows, proving this column useless. Let's drop it in the cell below."
   ]
  },
  {
   "cell_type": "code",
   "execution_count": 6,
   "metadata": {},
   "outputs": [],
   "source": [
    "df.drop(['invoice/item number'], axis=1, inplace=True)\n",
    "# 'store location', 'volume sold (gallons)'"
   ]
  },
  {
   "cell_type": "code",
   "execution_count": 7,
   "metadata": {},
   "outputs": [],
   "source": [
    "df.rename(columns = {'store number': 'store_number', 'store name': 'store_name', 'zip code': 'zip_code',\n",
    "                    'store location': 'store_location', 'country number':'county_number',\n",
    "                    'category name':'category_name', 'vendor number':'vendor_number', 'vendor name':'vendor_name',\n",
    "                    'item number':'item_number', 'item description':'item_description', 'bottle volume (ml)':\n",
    "                    'bottle_vol', 'state bottle cost': 'bottle_cost','state bottle retail':'state_bottle_retail',\n",
    "                    'bottles sold':'bottles_sold','sale (dollars)':'sale','volume sold (liters)':'vol_sold', # in liters\n",
    "                    'county number': 'county_number'}, inplace=True)"
   ]
  },
  {
   "cell_type": "markdown",
   "metadata": {},
   "source": [
    "### Place in Chronological Order"
   ]
  },
  {
   "cell_type": "code",
   "execution_count": 9,
   "metadata": {},
   "outputs": [
    {
     "data": {
      "text/plain": [
       "(Timestamp('2012-01-03 00:00:00'), Timestamp('2017-10-31 00:00:00'))"
      ]
     },
     "execution_count": 9,
     "metadata": {},
     "output_type": "execute_result"
    }
   ],
   "source": [
    "df.sort_values('date', inplace=True)\n",
    "df.reset_index(drop=True, inplace=True)\n",
    "df.date.min(), df.date.max()"
   ]
  },
  {
   "cell_type": "markdown",
   "metadata": {},
   "source": [
    "### We only have the information for yyyy/mm/dd, so let's drop the hours, minutes, and seconds."
   ]
  },
  {
   "cell_type": "code",
   "execution_count": 10,
   "metadata": {},
   "outputs": [],
   "source": [
    "# just_ymd = [df.date for i in datetime.strptime(df.date[i], '%Y/%m/%d')]\n",
    "# df.date = df.date.strptime('%Y/%m/%d')"
   ]
  },
  {
   "cell_type": "markdown",
   "metadata": {},
   "source": [
    "### Insert year, month, and day columns"
   ]
  },
  {
   "cell_type": "code",
   "execution_count": 11,
   "metadata": {},
   "outputs": [],
   "source": [
    "year = pd.to_datetime(df.date).dt.year\n",
    "year = year.astype(np.int16)\n",
    "df.insert(1, 'year', year, allow_duplicates=True)\n",
    "\n",
    "month = pd.to_datetime(df.date).dt.month\n",
    "month = month.astype(np.int8)\n",
    "df.insert(2, 'month', month, allow_duplicates=True)\n",
    "\n",
    "day = pd.to_datetime(df.date).dt.day\n",
    "day = day.astype(np.int8)\n",
    "df.insert(3, 'day', day, allow_duplicates=True)"
   ]
  },
  {
   "cell_type": "markdown",
   "metadata": {},
   "source": [
    "## The table of data: df"
   ]
  },
  {
   "cell_type": "code",
   "execution_count": 12,
   "metadata": {},
   "outputs": [
    {
     "data": {
      "text/html": [
       "<div>\n",
       "<style scoped>\n",
       "    .dataframe tbody tr th:only-of-type {\n",
       "        vertical-align: middle;\n",
       "    }\n",
       "\n",
       "    .dataframe tbody tr th {\n",
       "        vertical-align: top;\n",
       "    }\n",
       "\n",
       "    .dataframe thead th {\n",
       "        text-align: right;\n",
       "    }\n",
       "</style>\n",
       "<table border=\"1\" class=\"dataframe\">\n",
       "  <thead>\n",
       "    <tr style=\"text-align: right;\">\n",
       "      <th></th>\n",
       "      <th>date</th>\n",
       "      <th>year</th>\n",
       "      <th>month</th>\n",
       "      <th>day</th>\n",
       "      <th>store_number</th>\n",
       "      <th>store_name</th>\n",
       "      <th>address</th>\n",
       "      <th>city</th>\n",
       "      <th>zip_code</th>\n",
       "      <th>store_location</th>\n",
       "      <th>county_number</th>\n",
       "      <th>county</th>\n",
       "      <th>category</th>\n",
       "      <th>category_name</th>\n",
       "      <th>vendor_number</th>\n",
       "      <th>vendor_name</th>\n",
       "      <th>item_number</th>\n",
       "      <th>item_description</th>\n",
       "      <th>pack</th>\n",
       "      <th>bottle_vol</th>\n",
       "      <th>bottle_cost</th>\n",
       "      <th>state_bottle_retail</th>\n",
       "      <th>bottles_sold</th>\n",
       "      <th>sale</th>\n",
       "      <th>vol_sold</th>\n",
       "      <th>volume sold (gallons)</th>\n",
       "    </tr>\n",
       "  </thead>\n",
       "  <tbody>\n",
       "    <tr>\n",
       "      <th>0</th>\n",
       "      <td>2012-01-03</td>\n",
       "      <td>2012</td>\n",
       "      <td>1</td>\n",
       "      <td>3</td>\n",
       "      <td>3944</td>\n",
       "      <td>Sam's Club 4973 / Dubuque</td>\n",
       "      <td>4400 ASBURY RD</td>\n",
       "      <td>DUBUQUE</td>\n",
       "      <td>52002</td>\n",
       "      <td>4400 ASBURY RD\\nDUBUQUE 52002\\n(42.515282, -90...</td>\n",
       "      <td>31.0</td>\n",
       "      <td>Dubuque</td>\n",
       "      <td>1062200.0</td>\n",
       "      <td>PUERTO RICO &amp; VIRGIN ISLANDS RUM</td>\n",
       "      <td>35.0</td>\n",
       "      <td>Bacardi U.S.A., Inc.</td>\n",
       "      <td>43128</td>\n",
       "      <td>Bacardi Superior Rum</td>\n",
       "      <td>6</td>\n",
       "      <td>1750</td>\n",
       "      <td>$14.67</td>\n",
       "      <td>$22.00</td>\n",
       "      <td>18</td>\n",
       "      <td>$396.00</td>\n",
       "      <td>31.5</td>\n",
       "      <td>8.32</td>\n",
       "    </tr>\n",
       "    <tr>\n",
       "      <th>1</th>\n",
       "      <td>2012-01-03</td>\n",
       "      <td>2012</td>\n",
       "      <td>1</td>\n",
       "      <td>3</td>\n",
       "      <td>2649</td>\n",
       "      <td>Hy-Vee #3 / Dubuque</td>\n",
       "      <td>400 LOCUST ST</td>\n",
       "      <td>DUBUQUE</td>\n",
       "      <td>52001</td>\n",
       "      <td>400 LOCUST ST\\nDUBUQUE 52001\\n(42.497219, -90....</td>\n",
       "      <td>31.0</td>\n",
       "      <td>Dubuque</td>\n",
       "      <td>1081900.0</td>\n",
       "      <td>MISC. AMERICAN CORDIALS &amp; LIQUEURS</td>\n",
       "      <td>305.0</td>\n",
       "      <td>MHW Ltd</td>\n",
       "      <td>77570</td>\n",
       "      <td>Travis Hasse Apple Pie Liqueur</td>\n",
       "      <td>12</td>\n",
       "      <td>750</td>\n",
       "      <td>$7.94</td>\n",
       "      <td>$11.91</td>\n",
       "      <td>4</td>\n",
       "      <td>$47.64</td>\n",
       "      <td>3.0</td>\n",
       "      <td>0.79</td>\n",
       "    </tr>\n",
       "    <tr>\n",
       "      <th>2</th>\n",
       "      <td>2012-01-03</td>\n",
       "      <td>2012</td>\n",
       "      <td>1</td>\n",
       "      <td>3</td>\n",
       "      <td>3744</td>\n",
       "      <td>Payless Foods / Dyersville</td>\n",
       "      <td>733 16TH AVE SE</td>\n",
       "      <td>DYERSVILLE</td>\n",
       "      <td>52040</td>\n",
       "      <td>733 16TH AVE SE\\nDYERSVILLE 52040\\n(42.470204,...</td>\n",
       "      <td>31.0</td>\n",
       "      <td>Dubuque</td>\n",
       "      <td>1081335.0</td>\n",
       "      <td>RASPBERRY SCHNAPPS</td>\n",
       "      <td>434.0</td>\n",
       "      <td>Luxco-St Louis</td>\n",
       "      <td>82146</td>\n",
       "      <td>Arrow Raspberry Schnapps</td>\n",
       "      <td>12</td>\n",
       "      <td>750</td>\n",
       "      <td>$3.97</td>\n",
       "      <td>$5.95</td>\n",
       "      <td>12</td>\n",
       "      <td>$71.40</td>\n",
       "      <td>9.0</td>\n",
       "      <td>2.38</td>\n",
       "    </tr>\n",
       "  </tbody>\n",
       "</table>\n",
       "</div>"
      ],
      "text/plain": [
       "        date  year  month  day  store_number                  store_name  \\\n",
       "0 2012-01-03  2012      1    3          3944   Sam's Club 4973 / Dubuque   \n",
       "1 2012-01-03  2012      1    3          2649         Hy-Vee #3 / Dubuque   \n",
       "2 2012-01-03  2012      1    3          3744  Payless Foods / Dyersville   \n",
       "\n",
       "           address        city zip_code  \\\n",
       "0   4400 ASBURY RD     DUBUQUE    52002   \n",
       "1    400 LOCUST ST     DUBUQUE    52001   \n",
       "2  733 16TH AVE SE  DYERSVILLE    52040   \n",
       "\n",
       "                                      store_location  county_number   county  \\\n",
       "0  4400 ASBURY RD\\nDUBUQUE 52002\\n(42.515282, -90...           31.0  Dubuque   \n",
       "1  400 LOCUST ST\\nDUBUQUE 52001\\n(42.497219, -90....           31.0  Dubuque   \n",
       "2  733 16TH AVE SE\\nDYERSVILLE 52040\\n(42.470204,...           31.0  Dubuque   \n",
       "\n",
       "    category                       category_name  vendor_number  \\\n",
       "0  1062200.0    PUERTO RICO & VIRGIN ISLANDS RUM           35.0   \n",
       "1  1081900.0  MISC. AMERICAN CORDIALS & LIQUEURS          305.0   \n",
       "2  1081335.0                  RASPBERRY SCHNAPPS          434.0   \n",
       "\n",
       "            vendor_name  item_number                item_description  pack  \\\n",
       "0  Bacardi U.S.A., Inc.        43128            Bacardi Superior Rum     6   \n",
       "1               MHW Ltd        77570  Travis Hasse Apple Pie Liqueur    12   \n",
       "2        Luxco-St Louis        82146        Arrow Raspberry Schnapps    12   \n",
       "\n",
       "   bottle_vol bottle_cost state_bottle_retail  bottles_sold     sale  \\\n",
       "0        1750      $14.67              $22.00            18  $396.00   \n",
       "1         750       $7.94              $11.91             4   $47.64   \n",
       "2         750       $3.97               $5.95            12   $71.40   \n",
       "\n",
       "   vol_sold  volume sold (gallons)  \n",
       "0      31.5                   8.32  \n",
       "1       3.0                   0.79  \n",
       "2       9.0                   2.38  "
      ]
     },
     "execution_count": 12,
     "metadata": {},
     "output_type": "execute_result"
    }
   ],
   "source": [
    "pd.set_option('display.max_columns', None)\n",
    "df.head(3)"
   ]
  },
  {
   "cell_type": "code",
   "execution_count": 13,
   "metadata": {},
   "outputs": [
    {
     "name": "stdout",
     "output_type": "stream",
     "text": [
      "<class 'pandas.core.frame.DataFrame'>\n",
      "RangeIndex: 12591077 entries, 0 to 12591076\n",
      "Data columns (total 26 columns):\n",
      " #   Column                 Dtype         \n",
      "---  ------                 -----         \n",
      " 0   date                   datetime64[ns]\n",
      " 1   year                   int16         \n",
      " 2   month                  int8          \n",
      " 3   day                    int8          \n",
      " 4   store_number           int16         \n",
      " 5   store_name             object        \n",
      " 6   address                object        \n",
      " 7   city                   object        \n",
      " 8   zip_code               object        \n",
      " 9   store_location         object        \n",
      " 10  county_number          float64       \n",
      " 11  county                 object        \n",
      " 12  category               float64       \n",
      " 13  category_name          object        \n",
      " 14  vendor_number          float64       \n",
      " 15  vendor_name            object        \n",
      " 16  item_number            int32         \n",
      " 17  item_description       object        \n",
      " 18  pack                   int16         \n",
      " 19  bottle_vol             int64         \n",
      " 20  bottle_cost            object        \n",
      " 21  state_bottle_retail    object        \n",
      " 22  bottles_sold           int16         \n",
      " 23  sale                   object        \n",
      " 24  vol_sold               float32       \n",
      " 25  volume sold (gallons)  float64       \n",
      "dtypes: datetime64[ns](1), float32(1), float64(4), int16(4), int32(1), int64(1), int8(2), object(12)\n",
      "memory usage: 1.9+ GB\n"
     ]
    }
   ],
   "source": [
    "df.info()"
   ]
  },
  {
   "cell_type": "markdown",
   "metadata": {},
   "source": [
    "# Data Cleaning:\n",
    "## Finding Missing Values and Stripping String Characters from Numeric Columns"
   ]
  },
  {
   "cell_type": "code",
   "execution_count": 14,
   "metadata": {},
   "outputs": [
    {
     "name": "stdout",
     "output_type": "stream",
     "text": [
      "                     Total  Missing Percent\n",
      "county_number        79178            0.629\n",
      "county               79178            0.629\n",
      "category_name        16086            0.128\n",
      "category              8020            0.064\n",
      "zip_code              2420            0.019\n",
      "address               2376            0.019\n",
      "city                  2375            0.019\n",
      "store_location        2375            0.019\n",
      "bottle_cost             10            0.000\n",
      "state_bottle_retail     10            0.000\n",
      "sale                    10            0.000\n",
      "vendor_number            3            0.000\n",
      "vendor_name              1            0.000\n"
     ]
    }
   ],
   "source": [
    "def nan_percentage(df):\n",
    "    total = df.isnull().sum().sort_values(ascending=False)\n",
    "    percent = (df.isnull().sum() / df.isnull().count()).sort_values(ascending=False)\n",
    "    missing_data = pd.concat([total, percent], axis=1, keys=['Total', 'Missing Percent'])\n",
    "    missing_data['Missing Percent'] = missing_data['Missing Percent'].apply(lambda x: x * 100)\n",
    "    print(missing_data[missing_data['Total'] > 0].round({'Missing Percent': 3}))\n",
    "    \n",
    "nan_percentage(df)"
   ]
  },
  {
   "cell_type": "markdown",
   "metadata": {},
   "source": [
    "## Let's address the missing values in descending order."
   ]
  },
  {
   "cell_type": "markdown",
   "metadata": {},
   "source": [
    "## 1. County and County Number"
   ]
  },
  {
   "cell_type": "code",
   "execution_count": 15,
   "metadata": {},
   "outputs": [
    {
     "data": {
      "text/plain": [
       "79178"
      ]
     },
     "execution_count": 15,
     "metadata": {},
     "output_type": "execute_result"
    }
   ],
   "source": [
    "df.county_number.isna().sum()"
   ]
  },
  {
   "cell_type": "code",
   "execution_count": 16,
   "metadata": {},
   "outputs": [
    {
     "data": {
      "text/plain": [
       "79178"
      ]
     },
     "execution_count": 16,
     "metadata": {},
     "output_type": "execute_result"
    }
   ],
   "source": [
    "df.query('county_number.isnull() & county.isnull()', engine='python').shape[0]"
   ]
  },
  {
   "cell_type": "markdown",
   "metadata": {},
   "source": [
    "### All rows missing values for the 'county' column also lack rows for the 'county_number' column; they are lost and cannot be recovered with this dataset."
   ]
  },
  {
   "cell_type": "markdown",
   "metadata": {},
   "source": [
    "## 2. Category and Category Name"
   ]
  },
  {
   "cell_type": "code",
   "execution_count": 17,
   "metadata": {},
   "outputs": [
    {
     "data": {
      "text/plain": [
       "16086"
      ]
     },
     "execution_count": 17,
     "metadata": {},
     "output_type": "execute_result"
    }
   ],
   "source": [
    "pd.set_option('display.max_columns', None)\n",
    "df.query('category_name.isnull()',engine='python').shape[0]"
   ]
  },
  {
   "cell_type": "code",
   "execution_count": 18,
   "metadata": {},
   "outputs": [
    {
     "data": {
      "text/plain": [
       "(dtype('O'), 16086)"
      ]
     },
     "execution_count": 18,
     "metadata": {},
     "output_type": "execute_result"
    }
   ],
   "source": [
    "df.category_name.dtype, df.category_name.isna().sum()"
   ]
  },
  {
   "cell_type": "markdown",
   "metadata": {},
   "source": [
    "### Here's a row with a NaN value as a string:"
   ]
  },
  {
   "cell_type": "code",
   "execution_count": 19,
   "metadata": {},
   "outputs": [
    {
     "data": {
      "text/plain": [
       "(16086, nan)"
      ]
     },
     "execution_count": 19,
     "metadata": {},
     "output_type": "execute_result"
    }
   ],
   "source": [
    "df.category_name.isna().sum(), df.category_name[5457]"
   ]
  },
  {
   "cell_type": "markdown",
   "metadata": {},
   "source": [
    "### We'll fill in about half of those NaN values (~8,000) with a dictionary"
   ]
  },
  {
   "cell_type": "code",
   "execution_count": 20,
   "metadata": {},
   "outputs": [],
   "source": [
    "df.category_name = df.category_name.astype(str)"
   ]
  },
  {
   "cell_type": "code",
   "execution_count": 21,
   "metadata": {},
   "outputs": [
    {
     "data": {
      "text/plain": [
       "[1031080.0, 1012100.0, 1011200.0, 1031200.0]"
      ]
     },
     "execution_count": 21,
     "metadata": {},
     "output_type": "execute_result"
    }
   ],
   "source": [
    "list_num = df.category.value_counts().index.to_list()\n",
    "list_num[0:4]"
   ]
  },
  {
   "cell_type": "code",
   "execution_count": 22,
   "metadata": {},
   "outputs": [
    {
     "data": {
      "text/plain": [
       "['VODKA 80 PROOF',\n",
       " 'CANADIAN WHISKIES',\n",
       " 'STRAIGHT BOURBON WHISKIES',\n",
       " 'SPICED RUM']"
      ]
     },
     "execution_count": 22,
     "metadata": {},
     "output_type": "execute_result"
    }
   ],
   "source": [
    "list_name = df.category_name.value_counts().index.to_list()\n",
    "list_name[0:4]"
   ]
  },
  {
   "cell_type": "code",
   "execution_count": 23,
   "metadata": {},
   "outputs": [],
   "source": [
    "def sample_from_dict(d, sample=4):\n",
    "    keys = random.sample(list(d), sample)\n",
    "    values = [d[k] for k in keys]\n",
    "    return dict(zip(keys, values))"
   ]
  },
  {
   "cell_type": "code",
   "execution_count": 24,
   "metadata": {},
   "outputs": [
    {
     "data": {
      "text/plain": [
       "{1901100.0: 'Temporary & Specialty Packages',\n",
       " 1091200.0: 'nan',\n",
       " 1032200.0: 'AMERICAN DRY GINS',\n",
       " 1012400.0: 'Cream Liqueurs'}"
      ]
     },
     "execution_count": 24,
     "metadata": {},
     "output_type": "execute_result"
    }
   ],
   "source": [
    "merged_dict = dict(zip(list_num, list_name))\n",
    "sample_from_dict(merged_dict)"
   ]
  },
  {
   "cell_type": "code",
   "execution_count": 25,
   "metadata": {},
   "outputs": [],
   "source": [
    "def fillNan(row,axis=1):\n",
    "    if row.category_name == 'nan':\n",
    "        return merged_dict.get(row.category)\n",
    "    else:\n",
    "        return row.category_name\n",
    "\n",
    "df.category_name = df.apply(fillNan,axis=1)"
   ]
  },
  {
   "cell_type": "code",
   "execution_count": 26,
   "metadata": {},
   "outputs": [
    {
     "data": {
      "text/plain": [
       "'American Schnapps'"
      ]
     },
     "execution_count": 26,
     "metadata": {},
     "output_type": "execute_result"
    }
   ],
   "source": [
    "df.category_name[5457]"
   ]
  },
  {
   "cell_type": "code",
   "execution_count": 27,
   "metadata": {},
   "outputs": [
    {
     "name": "stdout",
     "output_type": "stream",
     "text": [
      "category_name NaN count: 8020 \n",
      "category NaN count: 8020\n"
     ]
    }
   ],
   "source": [
    "print('category_name NaN count:', df.category_name.isna().sum(),\n",
    "      '\\ncategory NaN count:', df.category.isna().sum())"
   ]
  },
  {
   "cell_type": "markdown",
   "metadata": {},
   "source": [
    "### The rows of the category and category_name columns wherein both have NaN values (8,020) are lost for good."
   ]
  },
  {
   "cell_type": "markdown",
   "metadata": {},
   "source": [
    "## 3. Zip Code, Address, City"
   ]
  },
  {
   "cell_type": "code",
   "execution_count": 28,
   "metadata": {},
   "outputs": [
    {
     "data": {
      "text/plain": [
       "2420"
      ]
     },
     "execution_count": 28,
     "metadata": {},
     "output_type": "execute_result"
    }
   ],
   "source": [
    "df.zip_code.isna().sum()"
   ]
  },
  {
   "cell_type": "code",
   "execution_count": 29,
   "metadata": {},
   "outputs": [
    {
     "data": {
      "text/plain": [
       "date                        0\n",
       "year                        0\n",
       "month                       0\n",
       "day                         0\n",
       "store_number                0\n",
       "store_name                  0\n",
       "address                  2375\n",
       "city                     2375\n",
       "zip_code                 2420\n",
       "store_location           2375\n",
       "county_number            2420\n",
       "county                   2420\n",
       "category                    4\n",
       "category_name               4\n",
       "vendor_number               0\n",
       "vendor_name                 0\n",
       "item_number                 0\n",
       "item_description            0\n",
       "pack                        0\n",
       "bottle_vol                  0\n",
       "bottle_cost                 0\n",
       "state_bottle_retail         0\n",
       "bottles_sold                0\n",
       "sale                        0\n",
       "vol_sold                    0\n",
       "volume sold (gallons)       0\n",
       "dtype: int64"
      ]
     },
     "execution_count": 29,
     "metadata": {},
     "output_type": "execute_result"
    }
   ],
   "source": [
    "df.query('zip_code.isna()', engine='python').isna().sum()"
   ]
  },
  {
   "cell_type": "markdown",
   "metadata": {},
   "source": [
    "### Every city that has a zip code missing is also missing an address and city. The store number and name are the only columns that can be used to identify a particular store in these cases."
   ]
  },
  {
   "cell_type": "markdown",
   "metadata": {},
   "source": [
    "## 3.1 zip_code column: drop non-numeric characters"
   ]
  },
  {
   "cell_type": "code",
   "execution_count": 30,
   "metadata": {},
   "outputs": [
    {
     "data": {
      "text/plain": [
       "2420"
      ]
     },
     "execution_count": 30,
     "metadata": {},
     "output_type": "execute_result"
    }
   ],
   "source": [
    "df.zip_code.isna().sum()"
   ]
  },
  {
   "cell_type": "code",
   "execution_count": 31,
   "metadata": {},
   "outputs": [
    {
     "data": {
      "text/plain": [
       "(12591077, 10083835)"
      ]
     },
     "execution_count": 31,
     "metadata": {},
     "output_type": "execute_result"
    }
   ],
   "source": [
    "df.zip_code.shape[0], df.zip_code.str.isnumeric().sum()"
   ]
  },
  {
   "cell_type": "code",
   "execution_count": 32,
   "metadata": {},
   "outputs": [
    {
     "name": "stdout",
     "output_type": "stream",
     "text": [
      "2507242 zip code rows without total numerics.\n"
     ]
    }
   ],
   "source": [
    "print(df.zip_code.shape[0] - df.zip_code.str.isnumeric().sum(), 'zip code rows without total numerics.')"
   ]
  },
  {
   "cell_type": "code",
   "execution_count": 35,
   "metadata": {},
   "outputs": [],
   "source": [
    "import re\n",
    "def remove_non_nums(i_str):\n",
    "    return re.sub(r'\\D', '', str(i_str))"
   ]
  },
  {
   "cell_type": "code",
   "execution_count": 36,
   "metadata": {},
   "outputs": [],
   "source": [
    "df.zip_code = df.zip_code.apply(remove_non_nums)"
   ]
  },
  {
   "cell_type": "code",
   "execution_count": 37,
   "metadata": {},
   "outputs": [
    {
     "data": {
      "text/plain": [
       "(12591077, 12588657)"
      ]
     },
     "execution_count": 37,
     "metadata": {},
     "output_type": "execute_result"
    }
   ],
   "source": [
    "df.zip_code.shape[0], df.zip_code.str.isnumeric().sum()"
   ]
  },
  {
   "cell_type": "code",
   "execution_count": 38,
   "metadata": {},
   "outputs": [
    {
     "name": "stdout",
     "output_type": "stream",
     "text": [
      "2420 zip code rows without total numerics.\n"
     ]
    }
   ],
   "source": [
    "print(df.zip_code.shape[0] - df.zip_code.str.isnumeric().sum(), 'zip code rows without total numerics.')"
   ]
  },
  {
   "cell_type": "code",
   "execution_count": 39,
   "metadata": {},
   "outputs": [
    {
     "data": {
      "text/plain": [
       "0"
      ]
     },
     "execution_count": 39,
     "metadata": {},
     "output_type": "execute_result"
    }
   ],
   "source": [
    "df.zip_code.isna().sum()"
   ]
  },
  {
   "cell_type": "code",
   "execution_count": 40,
   "metadata": {},
   "outputs": [
    {
     "data": {
      "text/plain": [
       "0    52002\n",
       "1    52001\n",
       "2    52040\n",
       "3    51351\n",
       "4    52627\n",
       "Name: zip_code, dtype: object"
      ]
     },
     "execution_count": 40,
     "metadata": {},
     "output_type": "execute_result"
    }
   ],
   "source": [
    "df.zip_code.head()"
   ]
  },
  {
   "cell_type": "markdown",
   "metadata": {},
   "source": [
    "## 3.2. Address and City"
   ]
  },
  {
   "cell_type": "code",
   "execution_count": 41,
   "metadata": {},
   "outputs": [
    {
     "data": {
      "text/html": [
       "<div>\n",
       "<style scoped>\n",
       "    .dataframe tbody tr th:only-of-type {\n",
       "        vertical-align: middle;\n",
       "    }\n",
       "\n",
       "    .dataframe tbody tr th {\n",
       "        vertical-align: top;\n",
       "    }\n",
       "\n",
       "    .dataframe thead th {\n",
       "        text-align: right;\n",
       "    }\n",
       "</style>\n",
       "<table border=\"1\" class=\"dataframe\">\n",
       "  <thead>\n",
       "    <tr style=\"text-align: right;\">\n",
       "      <th></th>\n",
       "      <th>date</th>\n",
       "      <th>year</th>\n",
       "      <th>month</th>\n",
       "      <th>day</th>\n",
       "      <th>store_number</th>\n",
       "      <th>store_name</th>\n",
       "      <th>address</th>\n",
       "      <th>city</th>\n",
       "      <th>zip_code</th>\n",
       "      <th>store_location</th>\n",
       "      <th>county_number</th>\n",
       "      <th>county</th>\n",
       "      <th>category</th>\n",
       "      <th>category_name</th>\n",
       "      <th>vendor_number</th>\n",
       "      <th>vendor_name</th>\n",
       "      <th>item_number</th>\n",
       "      <th>item_description</th>\n",
       "      <th>pack</th>\n",
       "      <th>bottle_vol</th>\n",
       "      <th>bottle_cost</th>\n",
       "      <th>state_bottle_retail</th>\n",
       "      <th>bottles_sold</th>\n",
       "      <th>sale</th>\n",
       "      <th>vol_sold</th>\n",
       "      <th>volume sold (gallons)</th>\n",
       "    </tr>\n",
       "  </thead>\n",
       "  <tbody>\n",
       "    <tr>\n",
       "      <th>11755302</th>\n",
       "      <td>2017-06-22</td>\n",
       "      <td>2017</td>\n",
       "      <td>6</td>\n",
       "      <td>22</td>\n",
       "      <td>9932</td>\n",
       "      <td>3-Oaks Distillery, LLC</td>\n",
       "      <td>NaN</td>\n",
       "      <td>Dubuque</td>\n",
       "      <td>520020</td>\n",
       "      <td>Dubuque 52002\\n(42.516027, -90.766335)</td>\n",
       "      <td>31.0</td>\n",
       "      <td>DUBUQUE</td>\n",
       "      <td>1011100.0</td>\n",
       "      <td>Blended Whiskies</td>\n",
       "      <td>215.0</td>\n",
       "      <td>3-Oaks Distillery, LLC</td>\n",
       "      <td>27890</td>\n",
       "      <td>3-Oaks Distillery Whiskey</td>\n",
       "      <td>12</td>\n",
       "      <td>750</td>\n",
       "      <td>$21.60</td>\n",
       "      <td>$32.40</td>\n",
       "      <td>1</td>\n",
       "      <td>$388.80</td>\n",
       "      <td>0.75</td>\n",
       "      <td>0.19</td>\n",
       "    </tr>\n",
       "  </tbody>\n",
       "</table>\n",
       "</div>"
      ],
      "text/plain": [
       "               date  year  month  day  store_number              store_name  \\\n",
       "11755302 2017-06-22  2017      6   22          9932  3-Oaks Distillery, LLC   \n",
       "\n",
       "         address     city zip_code                          store_location  \\\n",
       "11755302     NaN  Dubuque   520020  Dubuque 52002\\n(42.516027, -90.766335)   \n",
       "\n",
       "          county_number   county   category     category_name  vendor_number  \\\n",
       "11755302           31.0  DUBUQUE  1011100.0  Blended Whiskies          215.0   \n",
       "\n",
       "                     vendor_name  item_number           item_description  \\\n",
       "11755302  3-Oaks Distillery, LLC        27890  3-Oaks Distillery Whiskey   \n",
       "\n",
       "          pack  bottle_vol bottle_cost state_bottle_retail  bottles_sold  \\\n",
       "11755302    12         750      $21.60              $32.40             1   \n",
       "\n",
       "             sale  vol_sold  volume sold (gallons)  \n",
       "11755302  $388.80      0.75                   0.19  "
      ]
     },
     "execution_count": 41,
     "metadata": {},
     "output_type": "execute_result"
    }
   ],
   "source": [
    "df.query('address.isna() & city.notna()', engine='python')"
   ]
  },
  {
   "cell_type": "markdown",
   "metadata": {},
   "source": [
    "### The address column has only one NaN value more than the city column, making the address of the store easy to ascertain via search engine: index: 11757989; address: 23039 Pfeiler Rd, Holy Cross, IA 52053"
   ]
  },
  {
   "cell_type": "code",
   "execution_count": 42,
   "metadata": {},
   "outputs": [
    {
     "name": "stderr",
     "output_type": "stream",
     "text": [
      "<ipython-input-42-bdedd23ba3a7>:1: SettingWithCopyWarning: \n",
      "A value is trying to be set on a copy of a slice from a DataFrame\n",
      "\n",
      "See the caveats in the documentation: https://pandas.pydata.org/pandas-docs/stable/user_guide/indexing.html#returning-a-view-versus-a-copy\n",
      "  df.address[11757989] = '23039 Pfeiler Rd'\n"
     ]
    }
   ],
   "source": [
    "df.address[11757989] = '23039 Pfeiler Rd'"
   ]
  },
  {
   "cell_type": "markdown",
   "metadata": {},
   "source": [
    "## 4. Vendor_number"
   ]
  },
  {
   "cell_type": "markdown",
   "metadata": {},
   "source": [
    "### vendor_number does not refer to only one name, as shown in the query below."
   ]
  },
  {
   "cell_type": "code",
   "execution_count": 43,
   "metadata": {},
   "outputs": [
    {
     "data": {
      "text/plain": [
       "Wilson Daniels Ltd.    68802\n",
       "Infinium Spirits       10235\n",
       "WILSON DANIELS LTD      9722\n",
       "Name: vendor_name, dtype: int64"
      ]
     },
     "execution_count": 43,
     "metadata": {},
     "output_type": "execute_result"
    }
   ],
   "source": [
    "df.query('vendor_number == 255.0').vendor_name.value_counts()"
   ]
  },
  {
   "cell_type": "markdown",
   "metadata": {},
   "source": [
    "### Let's fill the two NaN values in vendor_name based on the corresponding vendor_number values."
   ]
  },
  {
   "cell_type": "code",
   "execution_count": 44,
   "metadata": {},
   "outputs": [
    {
     "data": {
      "text/html": [
       "<div>\n",
       "<style scoped>\n",
       "    .dataframe tbody tr th:only-of-type {\n",
       "        vertical-align: middle;\n",
       "    }\n",
       "\n",
       "    .dataframe tbody tr th {\n",
       "        vertical-align: top;\n",
       "    }\n",
       "\n",
       "    .dataframe thead th {\n",
       "        text-align: right;\n",
       "    }\n",
       "</style>\n",
       "<table border=\"1\" class=\"dataframe\">\n",
       "  <thead>\n",
       "    <tr style=\"text-align: right;\">\n",
       "      <th></th>\n",
       "      <th>date</th>\n",
       "      <th>year</th>\n",
       "      <th>month</th>\n",
       "      <th>day</th>\n",
       "      <th>store_number</th>\n",
       "      <th>store_name</th>\n",
       "      <th>address</th>\n",
       "      <th>city</th>\n",
       "      <th>zip_code</th>\n",
       "      <th>store_location</th>\n",
       "      <th>county_number</th>\n",
       "      <th>county</th>\n",
       "      <th>category</th>\n",
       "      <th>category_name</th>\n",
       "      <th>vendor_number</th>\n",
       "      <th>vendor_name</th>\n",
       "      <th>item_number</th>\n",
       "      <th>item_description</th>\n",
       "      <th>pack</th>\n",
       "      <th>bottle_vol</th>\n",
       "      <th>bottle_cost</th>\n",
       "      <th>state_bottle_retail</th>\n",
       "      <th>bottles_sold</th>\n",
       "      <th>sale</th>\n",
       "      <th>vol_sold</th>\n",
       "      <th>volume sold (gallons)</th>\n",
       "    </tr>\n",
       "  </thead>\n",
       "  <tbody>\n",
       "    <tr>\n",
       "      <th>10188726</th>\n",
       "      <td>2016-10-17</td>\n",
       "      <td>2016</td>\n",
       "      <td>10</td>\n",
       "      <td>17</td>\n",
       "      <td>2190</td>\n",
       "      <td>Central City Liquor, Inc.</td>\n",
       "      <td>1460 2ND AVE</td>\n",
       "      <td>Des Moines</td>\n",
       "      <td>50314</td>\n",
       "      <td>1460 2ND AVE\\nDes Moines 50314\\n(41.60566, -93...</td>\n",
       "      <td>77.0</td>\n",
       "      <td>POLK</td>\n",
       "      <td>1011300.0</td>\n",
       "      <td>Single Barrel Bourbon Whiskies</td>\n",
       "      <td>NaN</td>\n",
       "      <td>Reservoir Distillery</td>\n",
       "      <td>916456</td>\n",
       "      <td>Reservoir Bourbon Whiskey</td>\n",
       "      <td>6</td>\n",
       "      <td>750</td>\n",
       "      <td>$45.00</td>\n",
       "      <td>$67.50</td>\n",
       "      <td>5</td>\n",
       "      <td>$405.00</td>\n",
       "      <td>3.75</td>\n",
       "      <td>0.99</td>\n",
       "    </tr>\n",
       "    <tr>\n",
       "      <th>10188727</th>\n",
       "      <td>2016-10-17</td>\n",
       "      <td>2016</td>\n",
       "      <td>10</td>\n",
       "      <td>17</td>\n",
       "      <td>2190</td>\n",
       "      <td>Central City Liquor, Inc.</td>\n",
       "      <td>1460 2ND AVE</td>\n",
       "      <td>Des Moines</td>\n",
       "      <td>50314</td>\n",
       "      <td>1460 2ND AVE\\nDes Moines 50314\\n(41.60566, -93...</td>\n",
       "      <td>77.0</td>\n",
       "      <td>POLK</td>\n",
       "      <td>1091100.0</td>\n",
       "      <td>American Distilled Spirit Specialty</td>\n",
       "      <td>NaN</td>\n",
       "      <td>Reservoir Distillery</td>\n",
       "      <td>927565</td>\n",
       "      <td>Reservoir Wheat Whiskey</td>\n",
       "      <td>6</td>\n",
       "      <td>750</td>\n",
       "      <td>$45.00</td>\n",
       "      <td>$67.50</td>\n",
       "      <td>3</td>\n",
       "      <td>$405.00</td>\n",
       "      <td>2.25</td>\n",
       "      <td>0.59</td>\n",
       "    </tr>\n",
       "    <tr>\n",
       "      <th>11174263</th>\n",
       "      <td>2017-03-22</td>\n",
       "      <td>2017</td>\n",
       "      <td>3</td>\n",
       "      <td>22</td>\n",
       "      <td>2556</td>\n",
       "      <td>Hy-Vee Wine and Spirits / Estherville</td>\n",
       "      <td>2608 E. Central Avenue</td>\n",
       "      <td>Estherville</td>\n",
       "      <td>51334</td>\n",
       "      <td>2608 E. Central Avenue\\nEstherville 51334\\n</td>\n",
       "      <td>32.0</td>\n",
       "      <td>EMMET</td>\n",
       "      <td>NaN</td>\n",
       "      <td>None</td>\n",
       "      <td>NaN</td>\n",
       "      <td>NaN</td>\n",
       "      <td>905433</td>\n",
       "      <td>Laphroaig Quarter Cask</td>\n",
       "      <td>6</td>\n",
       "      <td>750</td>\n",
       "      <td>$4.17</td>\n",
       "      <td>$47.24</td>\n",
       "      <td>1</td>\n",
       "      <td>$283.44</td>\n",
       "      <td>0.75</td>\n",
       "      <td>0.19</td>\n",
       "    </tr>\n",
       "  </tbody>\n",
       "</table>\n",
       "</div>"
      ],
      "text/plain": [
       "               date  year  month  day  store_number  \\\n",
       "10188726 2016-10-17  2016     10   17          2190   \n",
       "10188727 2016-10-17  2016     10   17          2190   \n",
       "11174263 2017-03-22  2017      3   22          2556   \n",
       "\n",
       "                                     store_name                 address  \\\n",
       "10188726              Central City Liquor, Inc.            1460 2ND AVE   \n",
       "10188727              Central City Liquor, Inc.            1460 2ND AVE   \n",
       "11174263  Hy-Vee Wine and Spirits / Estherville  2608 E. Central Avenue   \n",
       "\n",
       "                 city zip_code  \\\n",
       "10188726   Des Moines    50314   \n",
       "10188727   Des Moines    50314   \n",
       "11174263  Estherville    51334   \n",
       "\n",
       "                                             store_location  county_number  \\\n",
       "10188726  1460 2ND AVE\\nDes Moines 50314\\n(41.60566, -93...           77.0   \n",
       "10188727  1460 2ND AVE\\nDes Moines 50314\\n(41.60566, -93...           77.0   \n",
       "11174263        2608 E. Central Avenue\\nEstherville 51334\\n           32.0   \n",
       "\n",
       "         county   category                        category_name  \\\n",
       "10188726   POLK  1011300.0       Single Barrel Bourbon Whiskies   \n",
       "10188727   POLK  1091100.0  American Distilled Spirit Specialty   \n",
       "11174263  EMMET        NaN                                 None   \n",
       "\n",
       "          vendor_number           vendor_name  item_number  \\\n",
       "10188726            NaN  Reservoir Distillery       916456   \n",
       "10188727            NaN  Reservoir Distillery       927565   \n",
       "11174263            NaN                   NaN       905433   \n",
       "\n",
       "                   item_description  pack  bottle_vol bottle_cost  \\\n",
       "10188726  Reservoir Bourbon Whiskey     6         750      $45.00   \n",
       "10188727    Reservoir Wheat Whiskey     6         750      $45.00   \n",
       "11174263     Laphroaig Quarter Cask     6         750       $4.17   \n",
       "\n",
       "         state_bottle_retail  bottles_sold     sale  vol_sold  \\\n",
       "10188726              $67.50             5  $405.00      3.75   \n",
       "10188727              $67.50             3  $405.00      2.25   \n",
       "11174263              $47.24             1  $283.44      0.75   \n",
       "\n",
       "          volume sold (gallons)  \n",
       "10188726                   0.99  \n",
       "10188727                   0.59  \n",
       "11174263                   0.19  "
      ]
     },
     "execution_count": 44,
     "metadata": {},
     "output_type": "execute_result"
    }
   ],
   "source": [
    "df.query('vendor_number.isna()', engine='python')"
   ]
  },
  {
   "cell_type": "code",
   "execution_count": 45,
   "metadata": {},
   "outputs": [
    {
     "data": {
      "text/plain": [
       "0           []\n",
       "1           []\n",
       "2           []\n",
       "3           []\n",
       "4           []\n",
       "            ..\n",
       "12591072    []\n",
       "12591073    []\n",
       "12591074    []\n",
       "12591075    []\n",
       "12591076    []\n",
       "Name: vendor_name, Length: 12591077, dtype: object"
      ]
     },
     "execution_count": 45,
     "metadata": {},
     "output_type": "execute_result"
    }
   ],
   "source": [
    "df.vendor_name.str.findall(\"Reservoir\")"
   ]
  },
  {
   "cell_type": "markdown",
   "metadata": {},
   "source": [
    "### As an aside, notice that the item description of the first two returned rows match, yet the item numbers differ, as well as the category_name and category_number. What compounds the fact that these differ is that they were purchased on the same day at the same store (store_name == 'Central City Liquor, Inc.', store_number == 2190). This indicates a surprising discrepancy between such columns."
   ]
  },
  {
   "cell_type": "markdown",
   "metadata": {},
   "source": [
    "# Data Cleaning:\n",
    "## Remove non-numerics from columns dealing with money: bottle_cost, state_bottle_retail, and sale"
   ]
  },
  {
   "cell_type": "code",
   "execution_count": 46,
   "metadata": {},
   "outputs": [],
   "source": [
    "df.sale = df.sale.replace(to_replace='nan', value=0)\n",
    "df.bottle_cost = df.bottle_cost.replace(to_replace='nan', value=0)"
   ]
  },
  {
   "cell_type": "code",
   "execution_count": 47,
   "metadata": {},
   "outputs": [],
   "source": [
    "# Change dtypes of columns to iterables\n",
    "df.bottle_cost = df.bottle_cost.astype(str)\n",
    "df.state_bottle_retail = df.state_bottle_retail.astype(str)\n",
    "df.sale = df.sale.astype(str)\n",
    "\n",
    "\n",
    "# Convert nan strings to a string of the number 0.\n",
    "df.bottle_cost = df.bottle_cost.replace(to_replace='nan', value='0')\n",
    "df.query('bottle_cost == \"nan\"').bottle_cost\n",
    "\n",
    "df.state_bottle_retail = df.state_bottle_retail.replace(to_replace='nan', value='0')\n",
    "df.query('state_bottle_retail == \"nan\"').state_bottle_retail\n",
    "\n",
    "df.sale = df.sale.replace(to_replace='nan', value='0')\n",
    "df.query('sale == \"nan\"').sale\n",
    "\n",
    "\n",
    "# Strip \"$\"\n",
    "df.bottle_cost = [x.strip('$') for x in df.bottle_cost]\n",
    "df.state_bottle_retail = [x.strip('$') for x in df.state_bottle_retail]\n",
    "df.sale = [x.strip('$') for x in df.sale]\n",
    "\n",
    "\n",
    "# Convert back to float\n",
    "df.bottle_cost = pd.to_numeric(df.bottle_cost, downcast='float')\n",
    "df.state_bottle_retail = pd.to_numeric(df.state_bottle_retail, downcast='float')\n",
    "df.sale = pd.to_numeric(df.sale, downcast='float', errors='ignore')"
   ]
  },
  {
   "cell_type": "code",
   "execution_count": 48,
   "metadata": {},
   "outputs": [
    {
     "data": {
      "text/plain": [
       "(dtype('float32'), dtype('float32'), dtype('float32'))"
      ]
     },
     "execution_count": 48,
     "metadata": {},
     "output_type": "execute_result"
    }
   ],
   "source": [
    "df.bottle_cost.dtype, df.state_bottle_retail.dtype, df.sale.dtype"
   ]
  },
  {
   "cell_type": "code",
   "execution_count": 49,
   "metadata": {},
   "outputs": [
    {
     "name": "stdout",
     "output_type": "stream",
     "text": [
      "4316 rows of the above contain zero. They were NaN before converted to 0. \n",
      " 3094 rows contain NaNs for all three columns: state_bottle_retail, bottle_cost, sale. \n",
      "\t- 3094 rows are state_bottle_retail. \n",
      "\t- 3094 rows are bottle_cost. \n",
      "\t- 3094 rows are both state_bottle_retail and bottle_cost.\n",
      " 4316 rows are sale alone, with 1222 more than the other factors.\n"
     ]
    }
   ],
   "source": [
    "print(df.query('state_bottle_retail == 0 | bottle_cost == 0 | sale == 0').shape[0],\n",
    "'rows of the above contain zero. They were NaN before converted to 0.',\n",
    "'\\n', df.query('bottle_cost == 0 & sale == 0').shape[0], 'rows contain NaNs for all three columns: state_bottle_retail, bottle_cost, sale.',\n",
    "'\\n\\t-', df.query('state_bottle_retail == 0').shape[0], 'rows are state_bottle_retail.',\n",
    "'\\n\\t-', df.query('bottle_cost == 0').shape[0], 'rows are bottle_cost.',\n",
    "'\\n\\t-', df.query('state_bottle_retail == 0 & bottle_cost == 0').shape[0], 'rows are both state_bottle_retail and bottle_cost.'\n",
    "'\\n', df.query('sale == 0').shape[0], 'rows are sale alone, with', 4316 - 3094, 'more than the other factors.')"
   ]
  },
  {
   "cell_type": "markdown",
   "metadata": {},
   "source": [
    "### Let's fill the bottle_cost, state_bottle_retail, and sale values with the average of each product sharing the same pack and category number."
   ]
  },
  {
   "cell_type": "markdown",
   "metadata": {},
   "source": [
    "# Data Cleaning and EDA:\n",
    "## Cleaning What We Have"
   ]
  },
  {
   "cell_type": "code",
   "execution_count": 50,
   "metadata": {},
   "outputs": [
    {
     "name": "stdout",
     "output_type": "stream",
     "text": [
      "store_name\n",
      "address\n",
      "city\n",
      "zip_code\n",
      "store_location\n",
      "county\n",
      "category_name\n",
      "vendor_name\n",
      "item_description\n"
     ]
    }
   ],
   "source": [
    "# make all strings lowercase\n",
    "object_column_list = list(df.dtypes[df.dtypes == object].index)\n",
    "# object_column_list.remove('store_location')\n",
    "# We will need Store Location later:\n",
    "for object_column in object_column_list:\n",
    "    df.loc[:,object_column] = df.loc[:,object_column].str.lower().str.strip().str.split().str.join(' ')\n",
    "    print(object_column)\n",
    "    gc.collect()"
   ]
  },
  {
   "cell_type": "code",
   "execution_count": 51,
   "metadata": {},
   "outputs": [
    {
     "data": {
      "application/vnd.jupyter.widget-view+json": {
       "model_id": "30ca125f91f3437e98c5ad2ae60499ce",
       "version_major": 2,
       "version_minor": 0
      },
      "text/plain": [
       "HBox(children=(FloatProgress(value=0.0, max=26.0), HTML(value='')))"
      ]
     },
     "metadata": {},
     "output_type": "display_data"
    },
    {
     "name": "stdout",
     "output_type": "stream",
     "text": [
      "Column date has 1379 values.\n",
      "Column year has 6 values.\n",
      "Column month has 12 values.\n",
      "Column day has 31 values.\n",
      "Column store_number has 1884 values.\n",
      "Column store_name has 1934 values.\n",
      "Column address has 1846 values.\n",
      "Column city has 416 values.\n",
      "Column zip_code has 881 values.\n",
      "Column store_location has 3083 values.\n",
      "Column county_number has 99 values.\n",
      "Column county has 103 values.\n",
      "Column category has 107 values.\n",
      "Column category_name has 108 values.\n",
      "Column vendor_number has 271 values.\n",
      "Column vendor_name has 357 values.\n",
      "Column item_number has 7395 values.\n",
      "Column item_description has 5811 values.\n",
      "Column pack has 30 values.\n",
      "Column bottle_vol has 49 values.\n",
      "Column bottle_cost has 2768 values.\n",
      "Column state_bottle_retail has 3224 values.\n",
      "Column bottles_sold has 450 values.\n",
      "Column sale has 23154 values.\n",
      "Column vol_sold has 1180 values.\n",
      "Column volume sold (gallons) has 1184 values.\n",
      "\n"
     ]
    }
   ],
   "source": [
    "from tqdm.notebook import trange, tqdm\n",
    "\n",
    "# Check if any columns can be converted to categories:\n",
    "count_dict = {}\n",
    "for c in tqdm(df.columns):\n",
    "    count_per_value = df[c].value_counts()\n",
    "    count_dict[c] = {\n",
    "        'count_of_values': count_per_value.count(),\n",
    "        'count_per_value': count_per_value\n",
    "    }\n",
    "    print(f\"Column {c} has {count_dict[c]['count_of_values']} values.\")"
   ]
  },
  {
   "cell_type": "markdown",
   "metadata": {},
   "source": [
    "### Interesting observations:\n",
    "\n",
    "The most of object columns should be converted to categories as even Item_Description column has only 4k+ values for 12M rows.\n",
    "\n",
    "- store_location has address, zip, city AND coordinates!\n",
    "- store_number.count < store_name.count < store_address - either we have typos in names/addresses or some stores - change location over time\n",
    "- county_number.count < county.count - we have TYPOS or NAME CONVENTION CHANGES in county names\n",
    "- vendor_number.count < vednor_name.count - same as above\n",
    "- categoy != category_name\n",
    "- item_number != item_name -> could be that name is preserved while some other attribute of the item is changed\n",
    "- volume Sold in Liters has less values than in Gallons <br><br>\n",
    "\n",
    "So we need some basic cleaning before we cast objects to categories."
   ]
  },
  {
   "cell_type": "markdown",
   "metadata": {},
   "source": [
    "## Store Location"
   ]
  },
  {
   "cell_type": "code",
   "execution_count": 59,
   "metadata": {},
   "outputs": [
    {
     "data": {
      "text/plain": [
       "Index(['date', 'year', 'month', 'day', 'store_number', 'store_name', 'address',\n",
       "       'city', 'zip_code', 'county_number', 'county', 'category',\n",
       "       'category_name', 'vendor_number', 'vendor_name', 'item_number',\n",
       "       'item_description', 'pack', 'bottle_vol', 'bottle_cost',\n",
       "       'state_bottle_retail', 'bottles_sold', 'sale', 'vol_sold',\n",
       "       'volume sold (gallons)', 'coordinates'],\n",
       "      dtype='object')"
      ]
     },
     "execution_count": 59,
     "metadata": {},
     "output_type": "execute_result"
    }
   ],
   "source": [
    "df.columns"
   ]
  },
  {
   "cell_type": "code",
   "execution_count": 61,
   "metadata": {},
   "outputs": [
    {
     "data": {
      "text/plain": [
       "0    4400 asbury rd dubuque 52002 (42.515282, -90.7...\n",
       "1    400 locust st dubuque 52001 (42.497219, -90.66...\n",
       "2    733 16th ave se dyersville 52040 (42.470204, -...\n",
       "3    1610 okoboji avenue milford 51351 (43.331525, ...\n",
       "4                    11802 avenue h fort madison 52627\n",
       "Name: coordinates, dtype: object"
      ]
     },
     "execution_count": 61,
     "metadata": {},
     "output_type": "execute_result"
    }
   ],
   "source": [
    "# Note: we are not using count_dict as we will use the function for batch processing new data:\n",
    "\n",
    "def get_coordinates(location_series):\n",
    "    \n",
    "    # Get unique values:\n",
    "    unique_locations = location_series.unique()\n",
    "    \n",
    "    # Create Pandas series in order to use .str methods:\n",
    "    unique_loactions = pd.Series(unique_locations, index=unique_locations)\n",
    "    \n",
    "    # Split every series value using '\\n'\n",
    "    # Take the last element from the list \n",
    "    # Convert series to a dictionary\n",
    "    # (Note: [-1:] trick this helps to dodge empty lists)\n",
    "    location_dict = unique_loactions.str.split('\\n').str[-1:].str[0].to_dict()\n",
    "\n",
    "    # Use the dict to map Locations to Coordinates:\n",
    "    return location_series.map(location_dict, na_action='ignore')\n",
    "\n",
    "# Create a new column coordinates\n",
    "# df.loc[:,'coordinates'] = get_coordinates(df['store_location'])\n",
    "\n",
    "# Get rid of useless column:\n",
    "# df.drop(columns=['store_location'], inplace=True)\n",
    "gc.collect()\n",
    "\n",
    "# Check 5 rows of new column:\n",
    "df.coordinates[:5]"
   ]
  },
  {
   "cell_type": "markdown",
   "metadata": {},
   "source": [
    "## Stores"
   ]
  },
  {
   "cell_type": "code",
   "execution_count": 62,
   "metadata": {},
   "outputs": [],
   "source": [
    "# Stores:\n",
    "stores_df = df.loc[:,['store_number','store_name','address','city']].drop_duplicates()\n",
    "\n",
    "# Count values for every store number:\n",
    "store_number_counts = stores_df.loc[:,\"store_number\"].value_counts()\n",
    "\n",
    "# Find store counts with multiple name or address antries:\n",
    "idx_store_duplicates = store_number_counts[store_number_counts!=1].index"
   ]
  },
  {
   "cell_type": "code",
   "execution_count": 63,
   "metadata": {},
   "outputs": [
    {
     "data": {
      "text/html": [
       "<div>\n",
       "<style scoped>\n",
       "    .dataframe tbody tr th:only-of-type {\n",
       "        vertical-align: middle;\n",
       "    }\n",
       "\n",
       "    .dataframe tbody tr th {\n",
       "        vertical-align: top;\n",
       "    }\n",
       "\n",
       "    .dataframe thead th {\n",
       "        text-align: right;\n",
       "    }\n",
       "</style>\n",
       "<table border=\"1\" class=\"dataframe\">\n",
       "  <thead>\n",
       "    <tr style=\"text-align: right;\">\n",
       "      <th></th>\n",
       "      <th>store_number</th>\n",
       "      <th>store_name</th>\n",
       "      <th>address</th>\n",
       "      <th>city</th>\n",
       "    </tr>\n",
       "  </thead>\n",
       "  <tbody>\n",
       "    <tr>\n",
       "      <th>1335489</th>\n",
       "      <td>4783</td>\n",
       "      <td>casey's general store #1684 / emmets</td>\n",
       "      <td>2406, main st</td>\n",
       "      <td>emmetsburg</td>\n",
       "    </tr>\n",
       "    <tr>\n",
       "      <th>9954098</th>\n",
       "      <td>4783</td>\n",
       "      <td>casey's general store #1684 / emmetsburg</td>\n",
       "      <td>2406, main st</td>\n",
       "      <td>emmetsburg</td>\n",
       "    </tr>\n",
       "    <tr>\n",
       "      <th>10527582</th>\n",
       "      <td>4783</td>\n",
       "      <td>casey's general store #1684 / emmetsburg</td>\n",
       "      <td>NaN</td>\n",
       "      <td>NaN</td>\n",
       "    </tr>\n",
       "    <tr>\n",
       "      <th>10636315</th>\n",
       "      <td>4783</td>\n",
       "      <td>casey's general store #1684 / emmetsburg</td>\n",
       "      <td>2406 main st</td>\n",
       "      <td>emmetsburg</td>\n",
       "    </tr>\n",
       "  </tbody>\n",
       "</table>\n",
       "</div>"
      ],
      "text/plain": [
       "          store_number                                store_name  \\\n",
       "1335489           4783      casey's general store #1684 / emmets   \n",
       "9954098           4783  casey's general store #1684 / emmetsburg   \n",
       "10527582          4783  casey's general store #1684 / emmetsburg   \n",
       "10636315          4783  casey's general store #1684 / emmetsburg   \n",
       "\n",
       "                address        city  \n",
       "1335489   2406, main st  emmetsburg  \n",
       "9954098   2406, main st  emmetsburg  \n",
       "10527582            NaN         NaN  \n",
       "10636315   2406 main st  emmetsburg  "
      ]
     },
     "execution_count": 63,
     "metadata": {},
     "output_type": "execute_result"
    }
   ],
   "source": [
    "# An example of multiple records:\n",
    "stores_df.loc[stores_df[\"store_number\"]==idx_store_duplicates[5]].drop_duplicates()"
   ]
  },
  {
   "cell_type": "code",
   "execution_count": 64,
   "metadata": {},
   "outputs": [
    {
     "data": {
      "text/plain": [
       "(2141, 4)"
      ]
     },
     "execution_count": 64,
     "metadata": {},
     "output_type": "execute_result"
    }
   ],
   "source": [
    "stores_df.shape"
   ]
  },
  {
   "cell_type": "markdown",
   "metadata": {},
   "source": [
    "Feautures:<br>\n",
    "\n",
    "- Store chains share name \"Hy-Vee Wine and Spirits\", but have different subnames: \"Estherville\". The fact that a store is part if a chani could be a valuable feature.\n",
    "\n",
    "- Note that some stores have format, so names won't match due to the number: cvs pharmacy #4816 / council bluffs\n",
    "\n",
    "Fixes:\n",
    "\n",
    "Apparently we have both typos, changes in conventions and (the worst) shop relocations. Possible fix:\n",
    "\n",
    "- split by '/', strip - to split subname from name ie 'Hy-Vee Wine and Spirits / Estherville' == 'Hy-Vee Wine and Spirits', 'Estherville'\n",
    "- StoreName, SubName is the name of max length for given number and address\n",
    "- Address NaN fill forward with the last known address\n",
    "- Coordinates are inconsistent and probably unreliable,so we will have to create new geotags."
   ]
  },
  {
   "cell_type": "code",
   "execution_count": 65,
   "metadata": {},
   "outputs": [],
   "source": [
    "# Process Store Name:\n",
    "df[['store_name','store_subname']] = df['store_name'].str.rsplit(pat=\" / \", expand=True, n=1)\n",
    "df[['store_name','store_subnumber']] = df['store_name'].str.rsplit(pat=\" #\", expand=True, n=1)"
   ]
  },
  {
   "cell_type": "code",
   "execution_count": 66,
   "metadata": {},
   "outputs": [],
   "source": [
    "# Lets do the sam trick for Vednors:\n",
    "def max_length(df, number_column, name_column):\n",
    "    # Stores:\n",
    "    stores_df = df.loc[:,[number_column, name_column]].drop_duplicates()\n",
    "    \n",
    "    # Create dictionary to map CountyNumber to max CountyName\n",
    "    max_dict = stores_df.fillna('#').groupby(number_column)[name_column].max().to_dict()\n",
    "    \n",
    "    # Replace CountyNames with max CountyNames using the dictionary:\n",
    "    return df[number_column].map(max_dict)"
   ]
  },
  {
   "cell_type": "code",
   "execution_count": 67,
   "metadata": {},
   "outputs": [],
   "source": [
    "df.loc[:,'store_name'] = max_length(df,'store_number','store_name')\n",
    "df.loc[:,'stores_subname'] = max_length(df,'store_number','store_subname')"
   ]
  },
  {
   "cell_type": "code",
   "execution_count": 68,
   "metadata": {},
   "outputs": [],
   "source": [
    "l = df['store_name'].str.extract(pat=r'(\\d+$)')"
   ]
  },
  {
   "cell_type": "markdown",
   "metadata": {},
   "source": [
    "## County Names and Numbers\n",
    "### county has 99 values, county_name has 103 values."
   ]
  },
  {
   "cell_type": "code",
   "execution_count": 69,
   "metadata": {},
   "outputs": [],
   "source": [
    "df.loc[:,'county'] = max_length(df,'county_number', 'county')"
   ]
  },
  {
   "cell_type": "markdown",
   "metadata": {},
   "source": [
    "## Vendors Names & Numbers\n",
    "### Column Vendor Number has 202 values. Column Vendor Name has 271 values."
   ]
  },
  {
   "cell_type": "code",
   "execution_count": 70,
   "metadata": {},
   "outputs": [],
   "source": [
    "df.loc[:,'vendor_name'] = max_length(df,'vendor_number', 'vendor_name')"
   ]
  },
  {
   "cell_type": "markdown",
   "metadata": {},
   "source": [
    "## Category Names & Numbers\n",
    "### Column Category has 102 values. Column Category Name has 106 values."
   ]
  },
  {
   "cell_type": "code",
   "execution_count": 71,
   "metadata": {},
   "outputs": [],
   "source": [
    "# Lets do the sam trick for Categories:\n",
    "df.loc[:,'category'] = max_length(df,'category','category_name')"
   ]
  },
  {
   "cell_type": "markdown",
   "metadata": {},
   "source": [
    "## Volumes Sold\n",
    "### volume Sold in Liters has less values than in Gallons as bottles are measured in ml we can probably drop gallons column if it does not have info for missing liters values"
   ]
  },
  {
   "cell_type": "code",
   "execution_count": 72,
   "metadata": {},
   "outputs": [
    {
     "data": {
      "text/plain": [
       "Index(['date', 'year', 'month', 'day', 'store_number', 'store_name', 'address',\n",
       "       'city', 'zip_code', 'county_number', 'county', 'category',\n",
       "       'category_name', 'vendor_number', 'vendor_name', 'item_number',\n",
       "       'item_description', 'pack', 'bottle_vol', 'bottle_cost',\n",
       "       'state_bottle_retail', 'bottles_sold', 'sale', 'vol_sold',\n",
       "       'volume sold (gallons)', 'coordinates', 'store_subname',\n",
       "       'store_subnumber', 'stores_subname'],\n",
       "      dtype='object')"
      ]
     },
     "execution_count": 72,
     "metadata": {},
     "output_type": "execute_result"
    }
   ],
   "source": [
    "df.columns"
   ]
  },
  {
   "cell_type": "code",
   "execution_count": 73,
   "metadata": {},
   "outputs": [],
   "source": [
    "if (df['vol_sold'].isna() == df['volume sold (gallons)'].isna()).all():\n",
    "    df.drop(columns=['volume sold (gallons)'], inplace=True)"
   ]
  },
  {
   "cell_type": "markdown",
   "metadata": {},
   "source": [
    "# Save data: iowa_liquor_clean1.4.pkl"
   ]
  },
  {
   "cell_type": "code",
   "execution_count": 75,
   "metadata": {},
   "outputs": [],
   "source": [
    "df.to_pickle('/Users/charisameeker/Documents/Data/iowa_liquor_clean1.4.pkl')\n",
    "# '/Users/charisameeker/Documents/Data/Iowa_Liquor_Sales.csv'"
   ]
  }
 ],
 "metadata": {
  "kernelspec": {
   "display_name": "Python 3",
   "language": "python",
   "name": "python3"
  },
  "language_info": {
   "codemirror_mode": {
    "name": "ipython",
    "version": 3
   },
   "file_extension": ".py",
   "mimetype": "text/x-python",
   "name": "python",
   "nbconvert_exporter": "python",
   "pygments_lexer": "ipython3",
   "version": "3.8.3"
  }
 },
 "nbformat": 4,
 "nbformat_minor": 4
}
